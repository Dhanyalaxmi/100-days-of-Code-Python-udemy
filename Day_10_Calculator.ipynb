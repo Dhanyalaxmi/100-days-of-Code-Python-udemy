{
  "nbformat": 4,
  "nbformat_minor": 0,
  "metadata": {
    "colab": {
      "name": "Day 10 - Calculator.ipynb",
      "provenance": []
    },
    "kernelspec": {
      "name": "python3",
      "display_name": "Python 3"
    },
    "language_info": {
      "name": "python"
    }
  },
  "cells": [
    {
      "cell_type": "code",
      "metadata": {
        "id": "QCadNyGqY-Qz"
      },
      "source": [
        "logo = \"\"\"\n",
        " _____________________\n",
        "|  _________________  |\n",
        "| | Pythonista   0. | |  .----------------.  .----------------.  .----------------.  .----------------. \n",
        "| |_________________| | | .--------------. || .--------------. || .--------------. || .--------------. |\n",
        "|  ___ ___ ___   ___  | | |     ______   | || |      __      | || |   _____      | || |     ______   | |\n",
        "| | 7 | 8 | 9 | | + | | | |   .' ___  |  | || |     /  \\     | || |  |_   _|     | || |   .' ___  |  | |\n",
        "| |___|___|___| |___| | | |  / .'   \\_|  | || |    / /\\ \\    | || |    | |       | || |  / .'   \\_|  | |\n",
        "| | 4 | 5 | 6 | | - | | | |  | |         | || |   / ____ \\   | || |    | |   _   | || |  | |         | |\n",
        "| |___|___|___| |___| | | |  \\ `.___.'\\  | || | _/ /    \\ \\_ | || |   _| |__/ |  | || |  \\ `.___.'\\  | |\n",
        "| | 1 | 2 | 3 | | x | | | |   `._____.'  | || ||____|  |____|| || |  |________|  | || |   `._____.'  | |\n",
        "| |___|___|___| |___| | | |              | || |              | || |              | || |              | |\n",
        "| | . | 0 | = | | / | | | '--------------' || '--------------' || '--------------' || '--------------' |\n",
        "| |___|___|___| |___| |  '----------------'  '----------------'  '----------------'  '----------------' \n",
        "|_____________________|\n",
        "\"\"\"\n"
      ],
      "execution_count": null,
      "outputs": []
    },
    {
      "cell_type": "code",
      "metadata": {
        "id": "NFQpOQOVY_xz"
      },
      "source": [
        "#from replit import clear\n",
        "#from art import logo\n",
        "def add(n1,n2):\n",
        "  return n1 + n2\n",
        "\n",
        "def subtract(n1,n2):\n",
        "  return n1 - n2  \n",
        "\n",
        "def multiply(n1,n2):\n",
        "  return n1 * n2\n",
        "\n",
        "def divide(n1,n2):\n",
        "  return n1 / n2\n",
        "\n",
        "operation = {\n",
        "  \"+\" : add,\n",
        "  \"-\" : subtract,\n",
        "  \"*\" : multiply,\n",
        "  \"/\" : divide\n",
        "}\n",
        "\n",
        "def Calculation():\n",
        "  print(logo)\n",
        "  num1 = float(input(\"Enter 1st number: \"))\n",
        "\n",
        "  for i in operation:\n",
        "    print(i)\n",
        "\n",
        "  cont_cal = True\n",
        "  while cont_cal:\n",
        "    select_op = input(\"Select a operation from the above list: \")\n",
        "\n",
        "    num2 = float(input(\"Enter number 2: \"))\n",
        "    op = operation[select_op]\n",
        "    result = op(num1,num2)\n",
        "    print(f\"{num1} {select_op} {num2} = {result}\")\n",
        "    cont_response = input(f\"Do you want to continue calulation with number1 as {result} ?(y/n)\")\n",
        "    if cont_response.lower() == \"n\":\n",
        "      cont_cal = False\n",
        "      clear()\n",
        "      Calculation()\n",
        "    elif cont_response.lower() == \"y\":\n",
        "      num1 = result  "
      ],
      "execution_count": null,
      "outputs": []
    },
    {
      "cell_type": "code",
      "metadata": {
        "id": "nizCxLe0ZAAz"
      },
      "source": [
        "Calculation()  "
      ],
      "execution_count": null,
      "outputs": []
    }
  ]
}