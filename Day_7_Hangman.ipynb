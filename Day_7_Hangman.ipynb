{
  "nbformat": 4,
  "nbformat_minor": 0,
  "metadata": {
    "colab": {
      "name": "Day 7 - Hangman.ipynb",
      "provenance": [],
      "collapsed_sections": []
    },
    "kernelspec": {
      "name": "python3",
      "display_name": "Python 3"
    },
    "language_info": {
      "name": "python"
    }
  },
  "cells": [
    {
      "cell_type": "code",
      "metadata": {
        "id": "KdgVxDpzNmPJ"
      },
      "source": [
        "#Step 5\n",
        "\n",
        "import random\n",
        "import hangman_words\n",
        "import hangman_art\n",
        "\n",
        "#TODO-1: - Update the word list to use the 'word_list' from hangman_words.py\n",
        "#Delete this line: word_list = [\"ardvark\", \"baboon\", \"camel\"]\n",
        "chosen_word = random.choice(hangman_words.word_list)\n",
        "word_length = len(chosen_word)\n",
        "\n",
        "end_of_game = False\n",
        "lives = 6\n",
        "\n",
        "#TODO-3: - Import the logo from hangman_art.py and print it at the start of the game.\n",
        "print(hangman_art.logo)\n",
        "#Testing code\n",
        "print(f'Pssst, the solution is {chosen_word}.')\n",
        "\n",
        "#Create blanks\n",
        "display = []\n",
        "for _ in range(word_length):\n",
        "    display += \"_\"\n",
        "\n",
        "while not end_of_game:\n",
        "    guess = input(\"Guess a letter: \").lower()\n",
        "\n",
        "    #TODO-4: - If the user has entered a letter they've already guessed, print the letter and let them know.\n",
        "    if guess in display:\n",
        "      print(f\"Letter {guess} is already guessed.\")\n",
        "    #Check guessed letter\n",
        "    for position in range(word_length):\n",
        "        letter = chosen_word[position]\n",
        "        #print(f\"Current position: {position}\\n Current letter: {letter}\\n Guessed letter: {guess}\")\n",
        "        if letter == guess:\n",
        "            display[position] = letter\n",
        "\n",
        "    #Check if user is wrong.\n",
        "    if guess not in chosen_word:\n",
        "        #TODO-5: - If the letter is not in the chosen_word, print out the letter and let them know it's not in the word.\n",
        "        print(f\"Letter {guess} is not in the word. \")\n",
        "        lives -= 1\n",
        "        if lives == 0:\n",
        "            end_of_game = True\n",
        "            print(\"You lose.\")\n",
        "\n",
        "    #Join all the elements in the list and turn it into a String.\n",
        "    print(f\"{' '.join(display)}\")\n",
        "\n",
        "    #Check if user has got all letters.\n",
        "    if \"_\" not in display:\n",
        "        end_of_game = True\n",
        "        print(\"You win.\")\n",
        "\n",
        "    #TODO-2: - Import the stages from hangman_art.py and make this error go away.\n",
        "    print(hangman_art.stages[lives])"
      ],
      "execution_count": null,
      "outputs": []
    }
  ]
}