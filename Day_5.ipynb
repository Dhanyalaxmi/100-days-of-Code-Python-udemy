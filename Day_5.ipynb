{
  "nbformat": 4,
  "nbformat_minor": 0,
  "metadata": {
    "colab": {
      "name": "Day 5.ipynb",
      "provenance": [],
      "collapsed_sections": []
    },
    "kernelspec": {
      "name": "python3",
      "display_name": "Python 3"
    },
    "language_info": {
      "name": "python"
    }
  },
  "cells": [
    {
      "cell_type": "markdown",
      "metadata": {
        "id": "vT8kQizwe8Ti"
      },
      "source": [
        "Pass Word Generator"
      ]
    },
    {
      "cell_type": "code",
      "metadata": {
        "id": "-ul4NCNge71k"
      },
      "source": [
        "#Password Generator Project\n",
        "import random\n",
        "letters = ['a', 'b', 'c', 'd', 'e', 'f', 'g', 'h', 'i', 'j', 'k', 'l', 'm', 'n', 'o', 'p', 'q', 'r', 's', 't', 'u', 'v', 'w', 'x', 'y', 'z', 'A', 'B', 'C', 'D', 'E', 'F', 'G', 'H', 'I', 'J', 'K', 'L', 'M', 'N', 'O', 'P', 'Q', 'R', 'S', 'T', 'U', 'V', 'W', 'X', 'Y', 'Z']\n",
        "numbers = ['0', '1', '2', '3', '4', '5', '6', '7', '8', '9']\n",
        "symbols = ['!', '#', '$', '%', '&', '(', ')', '*', '+']\n",
        "\n",
        "print(\"Welcome to the PyPassword Generator!\")\n",
        "nr_letters= int(input(\"How many letters would you like in your password?\\n\")) \n",
        "nr_symbols = int(input(f\"How many symbols would you like?\\n\"))\n",
        "nr_numbers = int(input(f\"How many numbers would you like?\\n\"))\n",
        "\n",
        "#Eazy Level - Order not randomised:\n",
        "#e.g. 4 letter, 2 symbol, 2 number = JduE&!91\n",
        "\n",
        "\n",
        "#Hard Level - Order of characters randomised:\n",
        "#e.g. 4 letter, 2 symbol, 2 number = g^2jk8&P\n",
        "\n",
        "rand_letters = (random.choices(letters, k = nr_letters))\n",
        "\n",
        "rand_symbols = (random.choices(symbols, k = nr_symbols))\n",
        "\n",
        "rand_num = (random.choices(numbers, k = nr_numbers))\n",
        "\n",
        "password = []\n",
        "password.extend(rand_letters)\n",
        "password.extend(rand_symbols)\n",
        "password.extend(rand_num)\n",
        "random.shuffle(password)\n",
        "final_pass = \"\"\n",
        "for i in password:\n",
        "  final_pass = i + final_pass\n",
        "\n",
        "print(final_pass)  "
      ],
      "execution_count": null,
      "outputs": []
    }
  ]
}