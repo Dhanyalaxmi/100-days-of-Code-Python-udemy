{
  "nbformat": 4,
  "nbformat_minor": 0,
  "metadata": {
    "colab": {
      "name": "Day1.ipynb",
      "provenance": []
    },
    "kernelspec": {
      "name": "python3",
      "display_name": "Python 3"
    },
    "language_info": {
      "name": "python"
    }
  },
  "cells": [
    {
      "cell_type": "code",
      "metadata": {
        "colab": {
          "base_uri": "https://localhost:8080/"
        },
        "id": "RG1luxMrvS6C",
        "outputId": "31921525-c2ff-408d-a9c3-ff61b2f1c66e"
      },
      "source": [
        "#1. Create a greeting for your program.\n",
        "print(\"Welcome to the brand name generator\")\n"
      ],
      "execution_count": 1,
      "outputs": [
        {
          "output_type": "stream",
          "text": [
            "Welcome to the brand name generator\n"
          ],
          "name": "stdout"
        }
      ]
    },
    {
      "cell_type": "code",
      "metadata": {
        "colab": {
          "base_uri": "https://localhost:8080/"
        },
        "id": "m6na37-hvWn6",
        "outputId": "f21ffe13-cf28-4229-c941-130a25b39d9c"
      },
      "source": [
        "#2. Ask the user for the city that they grew up in.\n",
        "city = input(\"What's the name of the city you grew up in?\\n \")\n"
      ],
      "execution_count": 2,
      "outputs": [
        {
          "output_type": "stream",
          "text": [
            "What's the name of the city you grew up in?\n",
            " Mumbai\n"
          ],
          "name": "stdout"
        }
      ]
    },
    {
      "cell_type": "code",
      "metadata": {
        "colab": {
          "base_uri": "https://localhost:8080/"
        },
        "id": "TxfJbbbcvX91",
        "outputId": "3c88eb4a-a012-43da-ceed-28e7da81b80a"
      },
      "source": [
        "#3. Ask the user for the name of a pet.\n",
        "p_name = input(\"What's your pet's name? \\n\")\n"
      ],
      "execution_count": 3,
      "outputs": [
        {
          "output_type": "stream",
          "text": [
            "What's your pet's name? \n",
            "Pluto\n"
          ],
          "name": "stdout"
        }
      ]
    },
    {
      "cell_type": "code",
      "metadata": {
        "colab": {
          "base_uri": "https://localhost:8080/"
        },
        "id": "fpSou_Hlvat1",
        "outputId": "fe9a0430-27e1-4d72-8e67-12ca681df2c0"
      },
      "source": [
        "#4. Combine the name of their city and pet and show them their band name.\n",
        "print(\"Your brand name could be \",city+p_name)\n"
      ],
      "execution_count": 4,
      "outputs": [
        {
          "output_type": "stream",
          "text": [
            "Your brand name could be  MumbaiPluto\n"
          ],
          "name": "stdout"
        }
      ]
    },
    {
      "cell_type": "code",
      "metadata": {
        "id": "RU1v7u3bvdFJ"
      },
      "source": [
        "#5. Make sure the input cursor shows on a new line, see the example at:\n",
        "#   https://band-name-generator-end.appbrewery.repl.run/"
      ],
      "execution_count": null,
      "outputs": []
    }
  ]
}