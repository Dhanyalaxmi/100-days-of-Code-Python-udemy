{
  "nbformat": 4,
  "nbformat_minor": 0,
  "metadata": {
    "colab": {
      "name": "Day1.ipynb",
      "provenance": []
    },
    "kernelspec": {
      "name": "python3",
      "display_name": "Python 3"
    },
    "language_info": {
      "name": "python"
    }
  },
  "cells": [
    {
      "cell_type": "code",
      "metadata": {
        "id": "RG1luxMrvS6C"
      },
      "source": [
        "#1. Create a greeting for your program.\n",
        "print(\"Welcome to the brand name generator\")\n"
      ],
      "execution_count": null,
      "outputs": []
    },
    {
      "cell_type": "code",
      "metadata": {
        "id": "m6na37-hvWn6"
      },
      "source": [
        "#2. Ask the user for the city that they grew up in.\n",
        "city = input(\"What's the name of the city you grew up in?\\n \")\n"
      ],
      "execution_count": null,
      "outputs": []
    },
    {
      "cell_type": "code",
      "metadata": {
        "id": "TxfJbbbcvX91"
      },
      "source": [
        "#3. Ask the user for the name of a pet.\n",
        "p_name = input(\"What's your pet's name? \\n\")\n"
      ],
      "execution_count": null,
      "outputs": []
    },
    {
      "cell_type": "code",
      "metadata": {
        "id": "fpSou_Hlvat1"
      },
      "source": [
        "#4. Combine the name of their city and pet and show them their band name.\n",
        "print(\"Your brand name could be \",city+p_name)\n"
      ],
      "execution_count": null,
      "outputs": []
    },
    {
      "cell_type": "code",
      "metadata": {
        "id": "RU1v7u3bvdFJ"
      },
      "source": [
        "#5. Make sure the input cursor shows on a new line, see the example at:\n",
        "#   https://band-name-generator-end.appbrewery.repl.run/"
      ],
      "execution_count": null,
      "outputs": []
    }
  ]
}