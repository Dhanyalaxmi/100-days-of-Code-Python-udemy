{
  "nbformat": 4,
  "nbformat_minor": 0,
  "metadata": {
    "colab": {
      "name": "8.2 Prime Number.ipynb",
      "provenance": [],
      "collapsed_sections": []
    },
    "kernelspec": {
      "name": "python3",
      "display_name": "Python 3"
    },
    "language_info": {
      "name": "python"
    }
  },
  "cells": [
    {
      "cell_type": "code",
      "metadata": {
        "id": "U3Di-u49Ja5p"
      },
      "source": [
        "def prime_checker(number):\n",
        "  is_prime = True\n",
        "  for i in range(2,number):\n",
        "    if number%i == 0:\n",
        "      is_prime = False\n",
        "      \n",
        "  if is_prime == True:\n",
        "    print(\"It's a prime number.\")\n",
        "  else:\n",
        "    print(\"It's not a prime number.\")  \n"
      ],
      "execution_count": null,
      "outputs": []
    }
  ]
}