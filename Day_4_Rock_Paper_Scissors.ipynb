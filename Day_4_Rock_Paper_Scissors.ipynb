{
  "nbformat": 4,
  "nbformat_minor": 0,
  "metadata": {
    "colab": {
      "name": "Day 4- Rock Paper Scissors.ipynb",
      "provenance": [],
      "collapsed_sections": []
    },
    "kernelspec": {
      "name": "python3",
      "display_name": "Python 3"
    },
    "language_info": {
      "name": "python"
    }
  },
  "cells": [
    {
      "cell_type": "code",
      "metadata": {
        "id": "osJ2aPJnoaOC"
      },
      "source": [
        "rock = '''\n",
        "    _______\n",
        "---'   ____)\n",
        "      (_____)\n",
        "      (_____)\n",
        "      (____)\n",
        "---.__(___)\n",
        "'''\n",
        "\n",
        "paper = '''\n",
        "    _______\n",
        "---'   ____)____\n",
        "          ______)\n",
        "          _______)\n",
        "         _______)\n",
        "---.__________)\n",
        "'''\n",
        "\n",
        "scissors = '''\n",
        "    _______\n",
        "---'   ____)____\n",
        "          ______)\n",
        "       __________)\n",
        "      (____)\n",
        "---.__(___)\n",
        "'''\n",
        "import random\n",
        "\n",
        "def PrintPic(choice):\n",
        "  if choice == \"rock\":\n",
        "    print(rock)\n",
        "  elif choice == \"paper\":\n",
        "    print(paper)\n",
        "  elif choice == \"scissors\":\n",
        "    print(scissors)  \n",
        "\n",
        "rps_game = [\"rock\",\"paper\",\"scissors\"]\n",
        "human_choice = int(input(\"What do you choose: Type 0 for rock, 1 for Paper, 2 for scissors   \"))\n",
        "computer_choice = random.randint(0,2)\n",
        "\n",
        "if human_choice <0 or human_choice > 3:\n",
        "  print(\"Invalid entry\")\n",
        "  exit()\n",
        "\n",
        "print(f\"You choose {rps_game[human_choice]} \")\n",
        "PrintPic(rps_game[human_choice])  \n",
        "\n",
        "print(f\"Computer choose {rps_game[computer_choice]} \")\n",
        "PrintPic(rps_game[computer_choice])  \n",
        "\n",
        "if computer_choice == human_choice:\n",
        "  print(\"Draw\")\n",
        "elif computer_choice == 0 and human_choice == 2:\n",
        "  print(\"You loose, computer wins\")\n",
        "elif computer_choice == 2 and human_choice == 1:\n",
        "  print(\"You loose, computer wins\")\n",
        "if computer_choice == 1 and human_choice == 0:\n",
        "  print(\"You loose, computer wins\")\n",
        "else:\n",
        "  print(\"Computer lost, you win\")      \n",
        "\n",
        "\n"
      ],
      "execution_count": null,
      "outputs": []
    }
  ]
}