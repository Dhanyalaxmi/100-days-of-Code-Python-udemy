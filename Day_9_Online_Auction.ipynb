{
  "nbformat": 4,
  "nbformat_minor": 0,
  "metadata": {
    "colab": {
      "name": "Day 9 - Online Auction.ipynb",
      "provenance": [],
      "collapsed_sections": []
    },
    "kernelspec": {
      "name": "python3",
      "display_name": "Python 3"
    },
    "language_info": {
      "name": "python"
    }
  },
  "cells": [
    {
      "cell_type": "code",
      "metadata": {
        "id": "nVfJ6wFlcz2J"
      },
      "source": [
        "logo = '''\n",
        "                         ___________\n",
        "                         \\         /\n",
        "                          )_______(\n",
        "                          |\"\"\"\"\"\"\"|_.-._,.---------.,_.-._\n",
        "                          |       | | |               | | ''-.\n",
        "                          |       |_| |_             _| |_..-'\n",
        "                          |_______| '-' `'---------'` '-'\n",
        "                          )\"\"\"\"\"\"\"(\n",
        "                         /_________\\\\\n",
        "                       .-------------.\n",
        "                      /_______________\\\\\n",
        "'''"
      ],
      "execution_count": null,
      "outputs": []
    },
    {
      "cell_type": "code",
      "metadata": {
        "id": "fS9wHtDuc0ek"
      },
      "source": [
        "from replit import clear\n",
        "#HINT: You can call clear() to clear the output in the console.\n",
        "\n",
        "from art import logo\n",
        "print(logo)\n",
        "\n",
        "auctioneer = {}\n",
        "def GetData():\n",
        "  print(\"Welcome to the secret auction program.\")\n",
        "  name = input(\"What is your name?: \")\n",
        "  bid = input(\"What's your bid?: $\")\n",
        "  auctioneer[name] = bid\n",
        "\n",
        "response = \"yes\"\n",
        "while response.lower() == \"yes\" :\n",
        "  GetData()\n",
        "  response = input(\"Are there any other bidders? Type 'yes' or 'no'. \").lower()\n",
        "  clear()\n",
        "\n",
        "max = 0\n",
        "for i in auctioneer:\n",
        "  if int(auctioneer[i]) > int(max):\n",
        "    max = auctioneer[i] \n",
        "    winner = i\n",
        "\n",
        "print(f\"The winner is {winner} with a bid of ${auctioneer[winner]}\")"
      ],
      "execution_count": null,
      "outputs": []
    }
  ]
}