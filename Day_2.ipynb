{
  "nbformat": 4,
  "nbformat_minor": 0,
  "metadata": {
    "colab": {
      "name": "Day 3.ipynb",
      "provenance": []
    },
    "kernelspec": {
      "name": "python3",
      "display_name": "Python 3"
    },
    "language_info": {
      "name": "python"
    }
  },
  "cells": [
    {
      "cell_type": "markdown",
      "metadata": {
        "id": "Emu7oA3F7EXI"
      },
      "source": [
        "#If the bill was $150.00, split between 5 people, with 12% tip. \n",
        "#Each person should pay (150.00 / 5) * 1.12 = 33.6\n",
        "#Format the result to 2 decimal places = 33.60\n",
        "#Tip: There are 2 ways to round a number. You might have to do some Googling to solve this.💪\n",
        "#HINT 1: https://www.google.com/search?q=how+to+round+number+to+2+decimal+places+python&oq=how+to+round+number+to+2+decimal\n",
        "#HINT 2: https://www.kite.com/python/answers/how-to-limit-a-float-to-two-decimal-places-in-python"
      ]
    },
    {
      "cell_type": "code",
      "metadata": {
        "id": "6o49bCJG7DF9"
      },
      "source": [
        "\n",
        "print(\"Welcome to the tip calculator\")\n",
        "total = float(input(\" What was the total bill? $\"))\n",
        "percent = int(input(\" What percentage tip would you like to give ? 10, 12, 15? \"))\n",
        "people = int(input(\"How many people to split the bill? \"))\n",
        "each_person =  (total/people) * (1+ (percent* 0.01))\n",
        "each_person = round(each_person,2)\n",
        "print(\"Each person should pay $\",each_person)\n"
      ],
      "execution_count": null,
      "outputs": []
    }
  ]
}