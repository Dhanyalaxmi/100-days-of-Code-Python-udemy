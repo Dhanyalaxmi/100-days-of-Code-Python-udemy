{
  "nbformat": 4,
  "nbformat_minor": 0,
  "metadata": {
    "colab": {
      "name": "Day 12 - Guess the Number.ipynb",
      "provenance": []
    },
    "kernelspec": {
      "name": "python3",
      "display_name": "Python 3"
    },
    "language_info": {
      "name": "python"
    }
  },
  "cells": [
    {
      "cell_type": "code",
      "metadata": {
        "id": "kEaWxiotw100"
      },
      "source": [
        "logo = \"\"\"\n",
        " _____ _   _ _____ _____ _____   _____ _   _  _____   _   _ _   ____  _________ ___________ \n",
        "|  __ \\ | | |  ___/  ___/  ___| |_   _| | | ||  ___| | \\ | | | | |  \\/  || ___ \\  ___| ___ \\\n",
        "| |  \\/ | | | |__ \\ `--.\\ `--.    | | | |_| || |__   |  \\| | | | | .  . || |_/ / |__ | |_/ /\n",
        "| | __| | | |  __| `--. \\`--. \\   | | |  _  ||  __|  | . ` | | | | |\\/| || ___ \\  __||    / \n",
        "| |_\\ \\ |_| | |___/\\__/ /\\__/ /   | | | | | || |___  | |\\  | |_| | |  | || |_/ / |___| |\\ \\ \n",
        " \\____/\\___/\\____/\\____/\\____/    \\_/ \\_| |_/\\____/  \\_| \\_/\\___/\\_|  |_/\\____/\\____/\\_| \\_|\n",
        "\"\"\""
      ],
      "execution_count": null,
      "outputs": []
    },
    {
      "cell_type": "code",
      "metadata": {
        "id": "Uy7F9pjnxIfw"
      },
      "source": [
        "#from art import logo\n",
        "from random import randint\n",
        "print(logo)\n",
        "\n",
        "print(\"Welcome to the GUESSING game ! \\nI am guessing a number between 1 to 100.\")\n",
        "\n",
        "number_to_be_guessed = randint(1,100)\n",
        "difficulty_level = input(\"Choose difficulty. Type 'easy' or 'hard' : \")\n",
        "\n",
        "if difficulty_level.lower() == 'easy':\n",
        "  no_of_attempts = 10\n",
        "elif difficulty_level.lower() == 'hard':\n",
        "  no_of_attempts = 5\n",
        "game_over = False\n",
        "while not(game_over):\n",
        "  print(f\"You have {no_of_attempts} attempts remaining to guess the number.\")\n",
        "  guessed_number = int(input(\"Guess the number : \"))\n",
        "  no_of_attempts = no_of_attempts - 1\n",
        "  if number_to_be_guessed == guessed_number: \n",
        "    print(f\"You got it! The answer was {number_to_be_guessed}.\")\n",
        "    break\n",
        "  elif guessed_number > number_to_be_guessed :\n",
        "    print(\"Too high.\")\n",
        "  elif guessed_number < number_to_be_guessed :\n",
        "    print(\"Too low.\")  \n",
        "  if no_of_attempts < 1 :\n",
        "    print(\"You've run out of guesses, you lose.\")\n",
        "    print(f\"The correct answer is {number_to_be_guessed}.\") \n",
        "    game_over = True\n",
        "  else:\n",
        "    print(\"Guess again.\")  \n",
        "\n",
        "  \n"
      ],
      "execution_count": null,
      "outputs": []
    }
  ]
}